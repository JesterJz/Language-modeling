{
 "cells": [
  {
   "cell_type": "code",
   "execution_count": 2,
   "metadata": {},
   "outputs": [],
   "source": [
    "import re\n",
    "import pickle\n",
    "import numpy as np\n",
    "from pyvi import ViTokenizer\n",
    "from tensorflow import keras"
   ]
  },
  {
   "cell_type": "markdown",
   "metadata": {},
   "source": [
    "build tokenizer"
   ]
  },
  {
   "cell_type": "code",
   "execution_count": null,
   "metadata": {},
   "outputs": [],
   "source": [
    "file = open('../data/news-corpus/sample/demo-title.txt', \"r\", encoding=\"utf-8\")\n",
    "token = open('../data/news-corpus/sample/title.txt','w', encoding=\"utf-8\")\n",
    "for ln in file.readlines():\n",
    "    ln = ln.lower()\n",
    "    ln = re.sub(\"[\\.\\,\\/\\:\\(\\)\\-\\'\\\"\\!\\?]\",'', ln)\n",
    "    line = ViTokenizer.tokenize(ln)\n",
    "    token.write(line)\n",
    "file.close()\n",
    "token.close()"
   ]
  },
  {
   "cell_type": "code",
   "execution_count": 18,
   "metadata": {},
   "outputs": [],
   "source": [
    "t = open('drive/MyDrive/Colab Notebooks/NLP/Data/title.txt','r', encoding=\"utf-8\")\n",
    "sequences = []\n",
    "INPUT_LENGTH = 3\n",
    "for line in t.readlines():\n",
    "    tokens = line.split()\n",
    "    for i in range(INPUT_LENGTH + 1, len(tokens)+1):\n",
    "        seq = tokens[i-INPUT_LENGTH-1:i]\n",
    "        line = ' '.join(seq)\n",
    "        sequences.append(line)\n"
   ]
  },
  {
   "cell_type": "code",
   "execution_count": 20,
   "metadata": {},
   "outputs": [],
   "source": [
    "tokenizer = keras.preprocessing.text.Tokenizer(filters='!\"#$%&()*+,-./:;<=>?@[\\]^`{|}~ \\n') # Filter bỏ qua các ký tự\n",
    "# Tương ứng từ sang các số\n",
    "tokenizer.fit_on_texts(sequences)"
   ]
  },
  {
   "cell_type": "code",
   "execution_count": null,
   "metadata": {},
   "outputs": [],
   "source": [
    "pickle.dump(tokenizer, open('drive/MyDrive/Colab Notebooks/tokenizer.pkl', 'wb'))"
   ]
  },
  {
   "cell_type": "code",
   "execution_count": 21,
   "metadata": {},
   "outputs": [
    {
     "data": {
      "text/plain": [
       "2818"
      ]
     },
     "execution_count": 21,
     "metadata": {},
     "output_type": "execute_result"
    }
   ],
   "source": [
    "vocab_size = len(tokenizer.word_index) + 1\n",
    "vocab_size"
   ]
  },
  {
   "cell_type": "markdown",
   "metadata": {},
   "source": [
    "build sequences digit"
   ]
  },
  {
   "cell_type": "code",
   "execution_count": null,
   "metadata": {},
   "outputs": [],
   "source": [
    "t = open('drive/MyDrive/Colab Notebooks/NLP/Data/title.txt','r', encoding=\"utf-8\")\n",
    "sequences = []\n",
    "INPUT_LENGTH = 3\n",
    "for line in t.readlines():\n",
    "    sequence_data = tokenizer.texts_to_sequences([line])[0]\n",
    "    for i in range(INPUT_LENGTH + 1, len(sequence_data)+1):\n",
    "        seq = sequence_data[i-INPUT_LENGTH-1:i]\n",
    "        # line = ' '.join(seq)\n",
    "        sequences.append(seq)\n",
    "        # print(seq[i-INPUT_LENGTH-1:i])\n",
    "sequences_digit = np.array(sequences)"
   ]
  },
  {
   "cell_type": "code",
   "execution_count": 22,
   "metadata": {},
   "outputs": [],
   "source": [
    "pickle.dump(sequences_digit, open('drive/MyDrive/Colab Notebooks/sequences_digit.pkl', 'wb'))"
   ]
  },
  {
   "cell_type": "code",
   "execution_count": null,
   "metadata": {},
   "outputs": [],
   "source": [
    "sequences_digit"
   ]
  }
 ],
 "metadata": {
  "interpreter": {
   "hash": "9cdf929322205b9e43d98d7c4cf91987317ab1d4d13086b9febd1487a1a96261"
  },
  "kernelspec": {
   "display_name": "Python 3.8.8 64-bit ('base': conda)",
   "name": "python3"
  },
  "language_info": {
   "codemirror_mode": {
    "name": "ipython",
    "version": 3
   },
   "file_extension": ".py",
   "mimetype": "text/x-python",
   "name": "python",
   "nbconvert_exporter": "python",
   "pygments_lexer": "ipython3",
   "version": "3.9.7"
  },
  "orig_nbformat": 4
 },
 "nbformat": 4,
 "nbformat_minor": 2
}
