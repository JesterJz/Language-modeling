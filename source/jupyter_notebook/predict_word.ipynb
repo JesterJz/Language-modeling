{
 "cells": [
  {
   "cell_type": "code",
   "execution_count": null,
   "metadata": {},
   "outputs": [],
   "source": [
    "# import string library function\n",
    "import re\n",
    "import pickle\n",
    "import numpy as np\n",
    "from pyvi import ViTokenizer\n",
    "from tensorflow.keras.preprocessing.sequence import pad_sequences\n",
    "from tensorflow.keras.models import load_model"
   ]
  },
  {
   "cell_type": "code",
   "execution_count": null,
   "metadata": {},
   "outputs": [],
   "source": [
    "# Load the model and tokenizer\n",
    "model = load_model('../../model/next_word.h5')\n",
    "print(\"Model: OK\")\n",
    "with open('../../model/tokenizer.pkl', 'rb') as f:\n",
    "    tokenizer = pickle.load(f)\n",
    "print(\"Tokenizer: OK\")\n",
    "len(tokenizer.word_index)"
   ]
  },
  {
   "cell_type": "code",
   "execution_count": null,
   "metadata": {},
   "outputs": [],
   "source": [
    "def gen_doc(doc):\n",
    "  doc = doc.lower()\n",
    "  ln = re.sub(\"[\\.\\,\\/\\:\\(\\)\\-\\'\\\"\\!\\?]\",'', doc)\n",
    "  line = ViTokenizer.tokenize(ln)\n",
    "  tokens = line.split()\n",
    "  tokens = tokens[-3:]\n",
    "  seq_digit = tokenizer.texts_to_sequences([tokens])\n",
    "  sequences = pad_sequences(seq_digit, maxlen=3)\n",
    "  sequences = np.reshape(sequences, (1,3))\n",
    "  sequences = np.array(sequences)\n",
    "  return sequences"
   ]
  },
  {
   "cell_type": "code",
   "execution_count": null,
   "metadata": {},
   "outputs": [],
   "source": [
    "def generate_text(text_input, n_words):\n",
    "    tokens = gen_doc(text_input)\n",
    "\n",
    "    for _ in range(n_words):\n",
    "        next_digit = np.argmax(model.predict([tokens]))\n",
    "        tokens = np.append(tokens, next_digit)\n",
    "    out_word = []\n",
    "    for token in tokens:\n",
    "        for word, index in tokenizer.word_index.items():\n",
    "            if index == token:\n",
    "                out_word.append(word)\n",
    "                break\n",
    "    return ' '.join(out_word)"
   ]
  },
  {
   "cell_type": "code",
   "execution_count": null,
   "metadata": {},
   "outputs": [],
   "source": [
    "seq = 'giao bán nhà'\n",
    "generate_text(text_input=seq, n_words=1)"
   ]
  },
  {
   "cell_type": "markdown",
   "metadata": {},
   "source": [
    "bên dưới là text đầu vào"
   ]
  },
  {
   "cell_type": "code",
   "execution_count": null,
   "metadata": {},
   "outputs": [],
   "source": [
    "t = open('drive/MyDrive/Colab Notebooks/NLP/Data/title.txt','r', encoding=\"utf-8\")\n",
    "print(t.read())"
   ]
  }
 ],
 "metadata": {
  "language_info": {
   "name": "python"
  },
  "orig_nbformat": 4
 },
 "nbformat": 4,
 "nbformat_minor": 2
}
